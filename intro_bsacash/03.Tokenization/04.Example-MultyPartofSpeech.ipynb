{
 "cells": [
  {
   "cell_type": "code",
   "execution_count": 1,
   "metadata": {},
   "outputs": [],
   "source": [
    "import nltk"
   ]
  },
  {
   "cell_type": "code",
   "execution_count": 2,
   "metadata": {},
   "outputs": [],
   "source": [
    "alice = nltk.corpus.gutenberg.words(\"carroll-alice.txt\")"
   ]
  },
  {
   "cell_type": "code",
   "execution_count": 7,
   "metadata": {},
   "outputs": [],
   "source": [
    "alice_norm = [word.lower() for word in alice if word.isalpha()]"
   ]
  },
  {
   "cell_type": "code",
   "execution_count": 8,
   "metadata": {},
   "outputs": [],
   "source": [
    "alice_tags = nltk.pos_tag(alice_norm, tagset=\"universal\")"
   ]
  },
  {
   "cell_type": "code",
   "execution_count": 9,
   "metadata": {},
   "outputs": [],
   "source": [
    "alice_cfd = nltk.ConditionalFreqDist(alice_tags)"
   ]
  },
  {
   "cell_type": "code",
   "execution_count": 11,
   "metadata": {},
   "outputs": [
    {
     "data": {
      "text/plain": [
       "FreqDist({'ADP': 31, 'PRT': 5, 'ADV': 4})"
      ]
     },
     "execution_count": 11,
     "metadata": {},
     "output_type": "execute_result"
    }
   ],
   "source": [
    "alice_cfd[\"over\"]"
   ]
  },
  {
   "cell_type": "code",
   "execution_count": 12,
   "metadata": {},
   "outputs": [],
   "source": [
    "alice_fd = nltk.FreqDist(alice_tags)"
   ]
  },
  {
   "cell_type": "code",
   "execution_count": 14,
   "metadata": {},
   "outputs": [
    {
     "data": {
      "text/plain": [
       "FreqDist({('the', 'DET'): 1642, ('and', 'CONJ'): 872, ('to', 'PRT'): 729, ('a', 'DET'): 632, ('it', 'PRON'): 595, ('she', 'PRON'): 553, ('of', 'ADP'): 514, ('said', 'VERB'): 462, ('you', 'PRON'): 411, ('in', 'ADP'): 369, ...})"
      ]
     },
     "execution_count": 14,
     "metadata": {},
     "output_type": "execute_result"
    }
   ],
   "source": [
    "alice_fd"
   ]
  },
  {
   "cell_type": "code",
   "execution_count": 20,
   "metadata": {},
   "outputs": [
    {
     "data": {
      "text/plain": [
       "5"
      ]
     },
     "execution_count": 20,
     "metadata": {},
     "output_type": "execute_result"
    }
   ],
   "source": [
    "alice_fd[('over', 'PRT')]"
   ]
  },
  {
   "cell_type": "code",
   "execution_count": 23,
   "metadata": {},
   "outputs": [],
   "source": [
    "some_tags = [word for word in nltk.pos_tag(alice) if word[0].lower() == 'spoke' or word[0].lower() == 'answer']"
   ]
  },
  {
   "cell_type": "code",
   "execution_count": 24,
   "metadata": {},
   "outputs": [
    {
     "data": {
      "text/plain": [
       "[('spoke', 'VBD'),\n",
       " ('answer', 'IN'),\n",
       " ('answer', 'VB'),\n",
       " ('spoke', 'VBD'),\n",
       " ('answer', 'VB'),\n",
       " ('spoke', 'VBD'),\n",
       " ('spoke', 'VBD'),\n",
       " ('answer', 'VB'),\n",
       " ('spoke', 'VBD'),\n",
       " ('answer', 'NN'),\n",
       " ('answer', 'NN'),\n",
       " ('spoke', 'VBD'),\n",
       " ('spoke', 'VBD'),\n",
       " ('answer', 'NN'),\n",
       " ('spoke', 'VBD'),\n",
       " ('spoke', 'VBD'),\n",
       " ('spoke', 'VBD'),\n",
       " ('spoke', 'VBD'),\n",
       " ('spoke', 'VBD'),\n",
       " ('spoke', 'VBD'),\n",
       " ('spoke', 'NN'),\n",
       " ('answer', 'NN'),\n",
       " ('answer', 'NN'),\n",
       " ('spoke', 'VBD'),\n",
       " ('spoke', 'VBD'),\n",
       " ('spoke', 'VBD')]"
      ]
     },
     "execution_count": 24,
     "metadata": {},
     "output_type": "execute_result"
    }
   ],
   "source": [
    "some_tags"
   ]
  },
  {
   "cell_type": "code",
   "execution_count": 29,
   "metadata": {},
   "outputs": [
    {
     "data": {
      "text/plain": [
       "<ConditionalFreqDist with 2569 conditions>"
      ]
     },
     "execution_count": 29,
     "metadata": {},
     "output_type": "execute_result"
    }
   ],
   "source": [
    "alice_cfd"
   ]
  }
 ],
 "metadata": {
  "kernelspec": {
   "display_name": "Python 3",
   "language": "python",
   "name": "python3"
  },
  "language_info": {
   "codemirror_mode": {
    "name": "ipython",
    "version": 3
   },
   "file_extension": ".py",
   "mimetype": "text/x-python",
   "name": "python",
   "nbconvert_exporter": "python",
   "pygments_lexer": "ipython3",
   "version": "3.7.6"
  }
 },
 "nbformat": 4,
 "nbformat_minor": 4
}
