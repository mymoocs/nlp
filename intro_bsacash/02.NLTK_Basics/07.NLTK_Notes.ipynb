{
 "cells": [
  {
   "cell_type": "code",
   "execution_count": 1,
   "metadata": {},
   "outputs": [
    {
     "name": "stdout",
     "output_type": "stream",
     "text": [
      "*** Introductory Examples for the NLTK Book ***\n",
      "Loading text1, ..., text9 and sent1, ..., sent9\n",
      "Type the name of the text or sentence to view it.\n",
      "Type: 'texts()' or 'sents()' to list the materials.\n",
      "text1: Moby Dick by Herman Melville 1851\n",
      "text2: Sense and Sensibility by Jane Austen 1811\n",
      "text3: The Book of Genesis\n",
      "text4: Inaugural Address Corpus\n",
      "text5: Chat Corpus\n",
      "text6: Monty Python and the Holy Grail\n",
      "text7: Wall Street Journal\n",
      "text8: Personals Corpus\n",
      "text9: The Man Who Was Thursday by G . K . Chesterton 1908\n"
     ]
    }
   ],
   "source": [
    "import nltk\n",
    "from nltk.book import *"
   ]
  },
  {
   "cell_type": "code",
   "execution_count": 2,
   "metadata": {},
   "outputs": [
    {
     "name": "stdout",
     "output_type": "stream",
     "text": [
      "Displaying 24 of 24 matches:\n",
      " to bespeak a monument for her first love , who had been killed by a whale in \n",
      "erlasting itch for things remote . I love to sail forbidden seas , and land on\n",
      "astic our stiff prejudices grow when love once comes to bend them . For now I \n",
      "ng . Now , it was plainly a labor of love for Captain Sleet to describe , as h\n",
      "he whole , I greatly admire and even love the brave , the honest , and learned\n",
      "to - night with hearts as light , To love , as gay and fleeting As bubbles tha\n",
      "he fleece of celestial innocence and love ; and hence , by bringing together t\n",
      "s this visible world seems formed in love , the invisible spheres were formed \n",
      "tism in them , still , while for the love of it they give chase to Moby Dick ,\n",
      "own hearty good - will and brotherly love about it at all . As touching Slave \n",
      "stubborn , as malicious . He did not love Steelkilt , and Steelkilt knew it . \n",
      " of sea - usages and the instinctive love of neatness in seamen ; some of whom\n",
      "g to let that rascal beat ye ? Do ye love brandy ? A hogshead of brandy , then\n",
      "h a sog ! such a sogger ! Don ' t ye love sperm ? There goes three thousand do\n",
      "atever they may reveal of the divine love in the Son , the soft , curled , her\n",
      " come to deadly battle , and all for love . They fence with their long lower j\n",
      "de overtakes the sated Turk ; then a love of ease and virtue supplants the lov\n",
      "ove of ease and virtue supplants the love for maidens ; our Ottoman enters upo\n",
      "go , the Virgin ! that ' s our first love ; we marry and think to be happy for\n",
      "Tranquo , being gifted with a devout love for all matters of barbaric vertu , \n",
      "ght worship is defiance . To neither love nor reverence wilt thou be kind ; an\n",
      " is woe . Come in thy lowest form of love , and I will kneel and kiss thee ; b\n",
      "es , yet full of the sweet things of love and gratitude . Come ! I feel proude\n",
      "dihood of a Nantucketer ' s paternal love , had thus early sought to initiate \n"
     ]
    }
   ],
   "source": [
    "text1.concordance(\"love\")"
   ]
  },
  {
   "cell_type": "code",
   "execution_count": 3,
   "metadata": {},
   "outputs": [
    {
     "name": "stdout",
     "output_type": "stream",
     "text": [
      "thought man was all have say oil come love wish time mean see hand\n",
      "name whale is not s english\n"
     ]
    }
   ],
   "source": [
    "text1.similar(\"hope\")"
   ]
  },
  {
   "cell_type": "code",
   "execution_count": null,
   "metadata": {},
   "outputs": [],
   "source": []
  }
 ],
 "metadata": {
  "kernelspec": {
   "display_name": "Python 3",
   "language": "python",
   "name": "python3"
  },
  "language_info": {
   "codemirror_mode": {
    "name": "ipython",
    "version": 3
   },
   "file_extension": ".py",
   "mimetype": "text/x-python",
   "name": "python",
   "nbconvert_exporter": "python",
   "pygments_lexer": "ipython3",
   "version": "3.7.6"
  }
 },
 "nbformat": 4,
 "nbformat_minor": 4
}
