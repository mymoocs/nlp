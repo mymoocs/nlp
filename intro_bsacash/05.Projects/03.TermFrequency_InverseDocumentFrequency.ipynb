{
 "cells": [
  {
   "cell_type": "code",
   "execution_count": 14,
   "metadata": {},
   "outputs": [],
   "source": [
    "import nltk\n",
    "import math"
   ]
  },
  {
   "cell_type": "code",
   "execution_count": 5,
   "metadata": {},
   "outputs": [],
   "source": [
    "dataset = {\n",
    "    \"tfidf_1.txt\":open(\"tfidf_1.txt\").read(),\n",
    "    \"tfidf_2.txt\":open(\"tfidf_2.txt\").read(),\n",
    "    \"tfidf_3.txt\":open(\"tfidf_3.txt\").read(),\n",
    "    \"tfidf_4.txt\":open(\"tfidf_4.txt\").read(),\n",
    "    \"tfidf_5.txt\":open(\"tfidf_5.txt\").read(),\n",
    "    \"tfidf_6.txt\":open(\"tfidf_6.txt\").read(),\n",
    "    \"tfidf_7.txt\":open(\"tfidf_7.txt\").read(),\n",
    "    \"tfidf_8.txt\":open(\"tfidf_8.txt\").read(),\n",
    "    \"tfidf_9.txt\":open(\"tfidf_9.txt\").read(),\n",
    "    \"tfidf_10.txt\":open(\"tfidf_10.txt\").read()\n",
    "}"
   ]
  },
  {
   "cell_type": "code",
   "execution_count": 6,
   "metadata": {},
   "outputs": [
    {
     "data": {
      "text/plain": [
       "dict_keys(['tfidf_1.txt', 'tfidf_2.txt', 'tfidf_3.txt', 'tfidf_4.txt', 'tfidf_5.txt', 'tfidf_6.txt', 'tfidf_7.txt', 'tfidf_8.txt', 'tfidf_9.txt', 'tfidf_10.txt'])"
      ]
     },
     "execution_count": 6,
     "metadata": {},
     "output_type": "execute_result"
    }
   ],
   "source": [
    "dataset.keys()"
   ]
  },
  {
   "cell_type": "code",
   "execution_count": 9,
   "metadata": {},
   "outputs": [
    {
     "data": {
      "text/plain": [
       "'World War '"
      ]
     },
     "execution_count": 9,
     "metadata": {},
     "output_type": "execute_result"
    }
   ],
   "source": [
    "dataset[\"tfidf_1.txt\"][:10]"
   ]
  },
  {
   "cell_type": "markdown",
   "metadata": {},
   "source": [
    "### Define Functions"
   ]
  },
  {
   "cell_type": "code",
   "execution_count": 21,
   "metadata": {},
   "outputs": [],
   "source": [
    "# Calculate term frequencies\n",
    "def tf(dataset, file_name):\n",
    "    text = dataset[file_name]\n",
    "    tokens = nltk.word_tokenize(text)\n",
    "    fd = nltk.FreqDist(tokens)\n",
    "    return fd\n",
    "\n",
    "# Calculate inverse document frequency\n",
    "def idf(dataset, term):\n",
    "    count = [term in dataset[file_name] for file_name in dataset]\n",
    "    inv_df = math.log(len(count)/sum(count))\n",
    "    return inv_df\n",
    "\n",
    "def tfidf(dataset, file_name, n):\n",
    "    term_scores = {}\n",
    "    file_fd = tf(dataset,file_name)\n",
    "    for term in file_fd:\n",
    "        if term.isalpha():\n",
    "            idf_val = idf(dataset,term)\n",
    "            tf_val = tf(dataset, file_name)[term]\n",
    "            tfidf_val = tf_val*idf_val\n",
    "            term_scores[term] = round(tfidf_val,2)\n",
    "    return sorted(term_scores.items(), key=lambda x:-x[1])[:n]"
   ]
  },
  {
   "cell_type": "markdown",
   "metadata": {},
   "source": [
    "### Run Code"
   ]
  },
  {
   "cell_type": "code",
   "execution_count": 23,
   "metadata": {},
   "outputs": [
    {
     "data": {
      "text/plain": [
       "3"
      ]
     },
     "execution_count": 23,
     "metadata": {},
     "output_type": "execute_result"
    }
   ],
   "source": [
    "tf(dataset, \"tfidf_1.txt\")[\"world\"]"
   ]
  },
  {
   "cell_type": "code",
   "execution_count": 18,
   "metadata": {},
   "outputs": [
    {
     "data": {
      "text/plain": [
       "0.5108256237659907"
      ]
     },
     "execution_count": 18,
     "metadata": {},
     "output_type": "execute_result"
    }
   ],
   "source": [
    "idf(dataset, \"world\")"
   ]
  },
  {
   "cell_type": "code",
   "execution_count": 20,
   "metadata": {},
   "outputs": [
    {
     "data": {
      "text/plain": [
       "0.10536051565782635"
      ]
     },
     "execution_count": 20,
     "metadata": {},
     "output_type": "execute_result"
    }
   ],
   "source": [
    "idf(dataset, \"iPhone\") # division by zero, no one document contains word 'iPhone'"
   ]
  },
  {
   "cell_type": "code",
   "execution_count": 17,
   "metadata": {},
   "outputs": [
    {
     "data": {
      "text/plain": [
       "[('Soviet', 20.72),\n",
       " ('Union', 18.42),\n",
       " ('Axis', 16.12),\n",
       " ('Japan', 11.27),\n",
       " ('Germany', 11.27)]"
      ]
     },
     "execution_count": 17,
     "metadata": {},
     "output_type": "execute_result"
    }
   ],
   "source": [
    "tfidf(dataset,\"tfidf_1.txt\",5)"
   ]
  },
  {
   "cell_type": "code",
   "execution_count": 16,
   "metadata": {},
   "outputs": [
    {
     "name": "stdout",
     "output_type": "stream",
     "text": [
      "tfidf_1.txt: \n",
      " [('Soviet', 20.72), ('Union', 18.42), ('Axis', 16.12), ('Japan', 11.27), ('Germany', 11.27)] \n",
      "\n",
      "tfidf_2.txt: \n",
      " [('Module', 16.12), ('Armstrong', 13.82), ('lunar', 13.82), ('Apollo', 11.51), ('Moon', 9.21)] \n",
      "\n",
      "tfidf_3.txt: \n",
      " [('Napoleon', 32.19), ('French', 16.86), ('Coalition', 11.51), ('Prussia', 6.91), ('military', 6.02)] \n",
      "\n",
      "tfidf_4.txt: \n",
      " [('Washington', 25.33), ('President', 6.44), ('Continental', 4.82), ('presided', 4.61), ('militia', 4.61)] \n",
      "\n",
      "tfidf_5.txt: \n",
      " [('Newton', 23.03), ('scientists', 6.91), ('motion', 4.83), ('mathematician', 4.61), ('Principia', 4.61)] \n",
      "\n",
      "tfidf_6.txt: \n",
      " [('Revolution', 21.67), ('French', 15.65), ('privileges', 6.91), ('central', 6.91), ('Napoleon', 6.44)] \n",
      "\n",
      "tfidf_7.txt: \n",
      " [('Leonardo', 18.42), ('Vinci', 9.21), ('painting', 6.91), ('Piero', 4.61), ('architecture', 4.61)] \n",
      "\n",
      "tfidf_8.txt: \n",
      " [('Titanic', 18.42), ('passengers', 11.51), ('maritime', 9.21), ('safety', 9.21), ('lifeboats', 9.21)] \n",
      "\n",
      "tfidf_9.txt: \n",
      " [('Rockefeller', 23.03), ('business', 6.91), ('Standard', 6.91), ('Oil', 6.91), ('University', 4.83)] \n",
      "\n",
      "tfidf_10.txt: \n",
      " [('Tesla', 13.82), ('electrical', 6.44), ('wireless', 6.44), ('mechanical', 4.61), ('alternating', 4.61)] \n",
      "\n"
     ]
    }
   ],
   "source": [
    "for file_name in dataset:\n",
    "    print(\"{0}: \\n {1} \\n\".format(file_name, tfidf(dataset,file_name,5)))"
   ]
  },
  {
   "cell_type": "code",
   "execution_count": null,
   "metadata": {},
   "outputs": [],
   "source": []
  }
 ],
 "metadata": {
  "kernelspec": {
   "display_name": "Python 3",
   "language": "python",
   "name": "python3"
  },
  "language_info": {
   "codemirror_mode": {
    "name": "ipython",
    "version": 3
   },
   "file_extension": ".py",
   "mimetype": "text/x-python",
   "name": "python",
   "nbconvert_exporter": "python",
   "pygments_lexer": "ipython3",
   "version": "3.7.6"
  }
 },
 "nbformat": 4,
 "nbformat_minor": 4
}
